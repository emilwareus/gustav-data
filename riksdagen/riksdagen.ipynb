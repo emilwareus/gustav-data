{
 "metadata": {
  "language_info": {
   "codemirror_mode": {
    "name": "ipython",
    "version": 3
   },
   "file_extension": ".py",
   "mimetype": "text/x-python",
   "name": "python",
   "nbconvert_exporter": "python",
   "pygments_lexer": "ipython3",
   "version": "3.7.6-final"
  },
  "orig_nbformat": 2,
  "kernelspec": {
   "name": "python37664bittfgpucondadd77d521c91c410fb9c1699eff6644c4",
   "display_name": "Python 3.7.6 64-bit ('tf-gpu': conda)"
  }
 },
 "nbformat": 4,
 "nbformat_minor": 2,
 "cells": [
  {
   "cell_type": "code",
   "execution_count": 1,
   "metadata": {},
   "outputs": [],
   "source": [
    "import codes"
   ]
  },
  {
   "cell_type": "markdown",
   "metadata": {},
   "source": [
    "## Fetch standard codes"
   ]
  },
  {
   "cell_type": "code",
   "execution_count": 2,
   "metadata": {
    "tags": []
   },
   "outputs": [
    {
     "output_type": "stream",
     "name": "stdout",
     "text": "get_document_types:: Lost 48 because of multiple types with same 'seriekod'.\nget_organs:: Lost 4 because of multiple types with same 'kod'.\n"
    }
   ],
   "source": [
    "doc_types = codes.get_document_types()\n",
    "national_meetings = codes.get_national_meetings()\n",
    "organs = codes.get_organs()\n",
    "roles = codes.get_roles()"
   ]
  },
  {
   "cell_type": "code",
   "execution_count": 10,
   "metadata": {},
   "outputs": [],
   "source": [
    "# Example of how one can create an sql-database of the data.\n",
    "# https://data.riksdagen.se/dokumentation/databasmodell/\n"
   ]
  },
  {
   "cell_type": "markdown",
   "metadata": {},
   "source": [
    "# Each document-ID consists of three parts:\n",
    "\n",
    "* code for national meeting/year -- \\[national_meetings\\]\n",
    "* code for ducument series -- \\[doc_types\\]\n",
    "* document designation (dokumentbeteckning) -- ??\n"
   ]
  },
  {
   "cell_type": "code",
   "execution_count": null,
   "metadata": {},
   "outputs": [],
   "source": []
  },
  {
   "cell_type": "code",
   "execution_count": null,
   "metadata": {},
   "outputs": [],
   "source": []
  }
 ]
}